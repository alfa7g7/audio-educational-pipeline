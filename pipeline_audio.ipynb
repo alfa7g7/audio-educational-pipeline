{
 "cells": [
  {
   "cell_type": "markdown",
   "metadata": {},
   "source": [
    "# Pipeline de Audio Educativo"
   ]
  },
  {
   "cell_type": "markdown",
   "metadata": {},
   "source": [
    "## Paso 1: Transcripción automática con Whisper\n",
    "\n",
    "Este notebook realiza la transcripción automática del archivo de audio usando Whisper y guarda el resultado en transcript_raw.csv."
   ]
  },
  {
   "cell_type": "code",
   "execution_count": 4,
   "metadata": {
    "vscode": {
     "languageId": "plaintext"
    }
   },
   "outputs": [
    {
     "name": "stdout",
     "output_type": "stream",
     "text": [
      "Núcleos de CPU detectados: 32\n",
      "PyTorch usará 31 threads para operaciones en CPU.\n",
      "¿CUDA disponible? False\n",
      "Se usará CPU.\n",
      "Transcripción guardada en transcript_raw.csv\n"
     ]
    }
   ],
   "source": [
    "# 1. Importar librerías\n",
    "import whisper\n",
    "import pandas as pd\n",
    "import os\n",
    "import torch\n",
    "\n",
    "# Detectar número de núcleos disponibles\n",
    "num_cores = os.cpu_count()\n",
    "print(f\"Núcleos de CPU detectados: {num_cores}\")\n",
    "\n",
    "# Configurar PyTorch para usar todos los núcleos menos uno (opcional)\n",
    "torch.set_num_threads(max(1, num_cores - 1))\n",
    "print(f\"PyTorch usará {max(1, num_cores - 1)} threads para operaciones en CPU.\")\n",
    "\n",
    "# Comprobar si CUDA está disponible\n",
    "print(\"¿CUDA disponible?\", torch.cuda.is_available())\n",
    "if torch.cuda.is_available():\n",
    "    print(\"Nombre de la GPU:\", torch.cuda.get_device_name(0))\n",
    "else:\n",
    "    print(\"Se usará CPU.\")\n",
    "\n",
    "\n",
    "# 2. Cargar el modelo Whisper (puedes usar 'base', 'small', 'medium', 'large')\n",
    "modelo = whisper.load_model(\"large\")  # Puedes cambiar a 'small' o 'medium' si tienes GPU pequeña, probaré con 'large' inicialmente al tener una rtx4070\n",
    "\n",
    "# 3. Transcribir el audio\n",
    "resultado = modelo.transcribe(\"audio_full.m4a\", language=\"en\")\n",
    "\n",
    "# 4. Guardar la transcripción en transcript_raw.csv\n",
    "df = pd.DataFrame([{\"audio_id\": \"01\", \"transcript_raw\": resultado[\"text\"]}])\n",
    "df.to_csv(\"transcript_raw.csv\", index=False)\n",
    "\n",
    "print(\"Transcripción guardada en transcript_raw.csv\")"
   ]
  },
  {
   "cell_type": "markdown",
   "metadata": {},
   "source": [
    "## Paso 2: Recorte de fragmentos para gold set"
   ]
  },
  {
   "cell_type": "code",
   "execution_count": 3,
   "metadata": {},
   "outputs": [
    {
     "name": "stdout",
     "output_type": "stream",
     "text": [
      "Fragmento 1 guardado como clip_01.wav\n",
      "Fragmento 2 guardado como clip_02.wav\n",
      "Fragmento 3 guardado como clip_03.wav\n",
      "Fragmento 4 guardado como clip_04.wav\n",
      "Fragmento 5 guardado como clip_05.wav\n"
     ]
    }
   ],
   "source": [
    "from pydub import AudioSegment\n",
    "\n",
    "# Cargar el audio completo\n",
    "audio = AudioSegment.from_file(\"audio_full.m4a\")\n",
    "\n",
    "# Define los intervalos de los 5 fragmentos (en milisegundos)\n",
    "clips = [\n",
    "    (0 * 1000, 45 * 1000),      # 0:00 - 0:45\n",
    "    (90 * 1000, 130 * 1000),    # 1:30 - 2:10\n",
    "    (150 * 1000, 200 * 1000),   # 2:30 - 3:20\n",
    "    (210 * 1000, 260 * 1000),   # 3:30 - 4:20\n",
    "    (270 * 1000, 300 * 1000),   # 4:30 - 5:00 (ajusta si tu audio es de 5 min exactos)\n",
    "]\n",
    "\n",
    "# Recorta y guarda los fragmentos\n",
    "for i, (start, end) in enumerate(clips, 1):\n",
    "    clip = audio[start:end]\n",
    "    filename = f\"clip_{i:02d}.wav\"\n",
    "    clip.export(filename, format=\"wav\")\n",
    "    print(f\"Fragmento {i} guardado como {filename}\")"
   ]
  },
  {
   "cell_type": "markdown",
   "metadata": {},
   "source": [
    "## Paso 3: Pipeline de corrección automática"
   ]
  },
  {
   "cell_type": "code",
   "execution_count": 1,
   "metadata": {},
   "outputs": [
    {
     "name": "stderr",
     "output_type": "stream",
     "text": [
      "Device set to use cpu\n",
      "Token indices sequence length is longer than the specified maximum sequence length for this model (1053 > 512). Running this sequence through the model will result in indexing errors\n",
      "Both `max_new_tokens` (=256) and `max_length`(=512) seem to have been set. `max_new_tokens` will take precedence. Please refer to the documentation for more information. (https://huggingface.co/docs/transformers/main/en/main_classes/text_generation)\n"
     ]
    },
    {
     "name": "stdout",
     "output_type": "stream",
     "text": [
      "Transcripción corregida guardada en transcript_corrected.csv\n"
     ]
    }
   ],
   "source": [
    "from transformers import pipeline\n",
    "import pandas as pd\n",
    "# Cargar el pipeline de corrección gramatical en inglés\n",
    "corrector = pipeline(\"text2text-generation\", model=\"prithivida/grammar_error_correcter_v1\")\n",
    "\n",
    "# Leer la transcripción automática\n",
    "df_raw = pd.read_csv(\"transcript_raw.csv\")\n",
    "\n",
    "# Corregir la transcripción\n",
    "corrected = corrector(df_raw[\"transcript_raw\"][0], max_length=512)[0]['generated_text']\n",
    "\n",
    "# Guardar la transcripción corregida\n",
    "df_corrected = pd.DataFrame([{\"audio_id\": \"01\", \"transcript_corrected\": corrected}])\n",
    "df_corrected.to_csv(\"transcript_corrected.csv\", index=False)\n",
    "\n",
    "print(\"Transcripción corregida guardada en transcript_corrected.csv\")"
   ]
  },
  {
   "cell_type": "markdown",
   "metadata": {},
   "source": [
    "## Paso 4: Evaluación cuantitativa"
   ]
  },
  {
   "cell_type": "code",
   "execution_count": 4,
   "metadata": {},
   "outputs": [
    {
     "name": "stdout",
     "output_type": "stream",
     "text": [
      "   clip_id    WER_raw    CER_raw  WER_corrected  CER_corrected\n",
      "0        1   5.000000   4.735988       0.846774       0.728614\n",
      "1        2   6.988889   6.603206       0.933333       0.763527\n",
      "2        3   5.517544   5.238953       0.956140       0.797054\n",
      "3        4   4.803150   4.918587       0.944882       0.777266\n",
      "4        5  10.666667  10.172619       0.933333       0.747024\n"
     ]
    }
   ],
   "source": [
    "import pandas as pd\n",
    "from jiwer import wer, cer\n",
    "\n",
    "# Cargar los archivos\n",
    "df_gold = pd.read_csv(\"transcript_gold.csv\")\n",
    "df_raw = pd.read_csv(\"transcript_raw.csv\")\n",
    "df_corrected = pd.read_csv(\"transcript_corrected.csv\")\n",
    "\n",
    "# Para cada fragmento del gold set, calcula WER y CER con raw y corrected\n",
    "resultados = []\n",
    "for i, row in df_gold.iterrows():\n",
    "    gold = row[\"transcript_gold\"]\n",
    "    # Puedes ajustar el índice si tienes varios fragmentos en raw/corrected\n",
    "    raw = df_raw[\"transcript_raw\"][0]\n",
    "    corrected = df_corrected[\"transcript_corrected\"][0]\n",
    "    resultados.append({\n",
    "        \"clip_id\": row[\"clip_id\"],\n",
    "        \"WER_raw\": wer(gold, raw),\n",
    "        \"CER_raw\": cer(gold, raw),\n",
    "        \"WER_corrected\": wer(gold, corrected),\n",
    "        \"CER_corrected\": cer(gold, corrected)\n",
    "    })\n",
    "\n",
    "df_resultados = pd.DataFrame(resultados)\n",
    "print(df_resultados)\n",
    "\n",
    "# Guardar resultados en CSV\n",
    "df_resultados.to_csv(\"metrics.csv\", index=False)"
   ]
  },
  {
   "cell_type": "markdown",
   "metadata": {},
   "source": [
    "## Paso 5: Visualización de resultados"
   ]
  },
  {
   "cell_type": "code",
   "execution_count": 5,
   "metadata": {},
   "outputs": [
    {
     "data": {
      "image/png": "[encoded data removed]",
      "text/plain": [
       "<Figure size 1000x500 with 1 Axes>"
      ]
     },
     "metadata": {},
     "output_type": "display_data"
    },
    {
     "data": {
      "image/png": "[encoded data removed]",
      "text/plain": [
       "<Figure size 1000x500 with 1 Axes>"
      ]
     },
     "metadata": {},
     "output_type": "display_data"
    }
   ],
   "source": [
    "import pandas as pd\n",
    "import matplotlib.pyplot as plt\n",
    "\n",
    "# Cargar los resultados\n",
    "df = pd.read_csv(\"metrics.csv\")\n",
    "\n",
    "# Gráfica de barras para WER\n",
    "plt.figure(figsize=(10, 5))\n",
    "plt.bar(df[\"clip_id\"], df[\"WER_raw\"], width=0.4, label=\"WER Raw\", align='center')\n",
    "plt.bar(df[\"clip_id\"], df[\"WER_corrected\"], width=0.4, label=\"WER Corrected\", align='edge')\n",
    "plt.ylabel(\"WER\")\n",
    "plt.xlabel(\"Clip ID\")\n",
    "plt.title(\"Comparación de WER antes y después de la corrección\")\n",
    "plt.legend()\n",
    "plt.show()\n",
    "\n",
    "# Gráfica de barras para CER\n",
    "plt.figure(figsize=(10, 5))\n",
    "plt.bar(df[\"clip_id\"], df[\"CER_raw\"], width=0.4, label=\"CER Raw\", align='center')\n",
    "plt.bar(df[\"clip_id\"], df[\"CER_corrected\"], width=0.4, label=\"CER Corrected\", align='edge')\n",
    "plt.ylabel(\"CER\")\n",
    "plt.xlabel(\"Clip ID\")\n",
    "plt.title(\"Comparación de CER antes y después de la corrección\")\n",
    "plt.legend()\n",
    "plt.show()"
   ]
  },
  {
   "cell_type": "markdown",
   "metadata": {},
   "source": [
    "## Paso 6: Análisis de errores frecuentes"
   ]
  },
  {
   "cell_type": "code",
   "execution_count": 6,
   "metadata": {},
   "outputs": [
    {
     "name": "stdout",
     "output_type": "stream",
     "text": [
      "Errores léxicos/gramaticales más frecuentes:\n",
      "- a (ocurre 93 veces)\n",
      "- you (ocurre 71 veces)\n",
      "- the (ocurre 55 veces)\n",
      "- to... (ocurre 55 veces)\n",
      "- I (ocurre 54 veces)\n"
     ]
    }
   ],
   "source": [
    "import pandas as pd\n",
    "from difflib import ndiff\n",
    "from collections import Counter\n",
    "\n",
    "# Cargar los datos\n",
    "df_gold = pd.read_csv(\"transcript_gold.csv\")\n",
    "df_raw = pd.read_csv(\"transcript_raw.csv\")\n",
    "df_corrected = pd.read_csv(\"transcript_corrected.csv\")\n",
    "\n",
    "errores = []\n",
    "\n",
    "for i, row in df_gold.iterrows():\n",
    "    gold = row[\"transcript_gold\"]\n",
    "    raw = df_raw[\"transcript_raw\"][0]\n",
    "    corrected = df_corrected[\"transcript_corrected\"][0]\n",
    "    # Compara gold vs raw\n",
    "    diff = list(ndiff(gold.split(), raw.split()))\n",
    "    # Extrae palabras que están en gold pero no en raw (posibles omisiones)\n",
    "    omisiones = [w[2:] for w in diff if w.startswith('- ')]\n",
    "    # Extrae palabras que están en raw pero no en gold (posibles adiciones/errores)\n",
    "    adiciones = [w[2:] for w in diff if w.startswith('+ ')]\n",
    "    errores.extend(omisiones)\n",
    "    errores.extend(adiciones)\n",
    "\n",
    "# Contar los errores más frecuentes\n",
    "errores_frecuentes = Counter(errores).most_common(5)\n",
    "print(\"Errores léxicos/gramaticales más frecuentes:\")\n",
    "for error, count in errores_frecuentes:\n",
    "    print(f\"- {error} (ocurre {count} veces)\")"
   ]
  },
  {
   "cell_type": "markdown",
   "metadata": {},
   "source": [
    "## Paso 7: Análisis detallado de errores"
   ]
  },
  {
   "cell_type": "code",
   "execution_count": 7,
   "metadata": {},
   "outputs": [
    {
     "name": "stdout",
     "output_type": "stream",
     "text": [
      "   clip_id     tipo                                               gold  \\\n",
      "0        1   delete                                          [student:   \n",
      "1        1   delete                                                  ]   \n",
      "2        1   delete                                                 l    \n",
      "3        1   insert                                                      \n",
      "4        1   insert                                                      \n",
      "5        1  replace                                     ll right, okay   \n",
      "6        1  replace                                      ut anyway, ha   \n",
      "7        1  replace  py, happy Wednesday, my dear. It's another, yo...   \n",
      "8        1  replace                        m telling you that you will   \n",
      "9        1  replace     some students canceling your lessons for sure]   \n",
      "\n",
      "                                                 raw  \\\n",
      "0                                                      \n",
      "1                                                      \n",
      "2                                                      \n",
      "3   Okay. But anyway, happy, happy Wednesday, my ...   \n",
      "4  Not a... Not national, only in Madrid province...   \n",
      "5  nd nothing, nothing really different from a da...   \n",
      "6  esides, nothing... Not working at all, which i...   \n",
      "7                                             ecial,   \n",
      "8  d say. Mm-hmm. Mm-hmm. It's something that we,...   \n",
      "9                                           to enjoy   \n",
      "\n",
      "                                           corregido  \n",
      "0                                                     \n",
      "1                                                     \n",
      "2                                                     \n",
      "3  yway, it's another, you know, class, alright, ...  \n",
      "4                                                     \n",
      "5                                                     \n",
      "6                                                     \n",
      "7                                                     \n",
      "8                                                     \n",
      "9                                                     \n"
     ]
    }
   ],
   "source": [
    "import pandas as pd\n",
    "from difflib import SequenceMatcher\n",
    "\n",
    "df_gold = pd.read_csv(\"transcript_gold.csv\")\n",
    "df_raw = pd.read_csv(\"transcript_raw.csv\")\n",
    "df_corrected = pd.read_csv(\"transcript_corrected.csv\")\n",
    "\n",
    "errores_detalle = []\n",
    "\n",
    "for i, row in df_gold.iterrows():\n",
    "    gold = row[\"transcript_gold\"]\n",
    "    raw = df_raw[\"transcript_raw\"][0]\n",
    "    corrected = df_corrected[\"transcript_corrected\"][0]\n",
    "    # Comparar gold vs raw\n",
    "    matcher = SequenceMatcher(None, gold, raw)\n",
    "    for tag, i1, i2, j1, j2 in matcher.get_opcodes():\n",
    "        if tag != 'equal':\n",
    "            errores_detalle.append({\n",
    "                \"clip_id\": row[\"clip_id\"],\n",
    "                \"tipo\": tag,\n",
    "                \"gold\": gold[i1:i2],\n",
    "                \"raw\": raw[j1:j2],\n",
    "                \"corregido\": corrected[j1:j2]\n",
    "            })\n",
    "\n",
    "df_errores = pd.DataFrame(errores_detalle)\n",
    "print(df_errores.head(10))\n",
    "df_errores.to_csv(\"errores_detallados.csv\", index=False)"
   ]
  },
  {
   "cell_type": "markdown",
   "metadata": {},
   "source": [
    "## Conclusiones y próximos pasos"
   ]
  },
  {
   "cell_type": "code",
   "execution_count": 3,
   "metadata": {},
   "outputs": [
    {
     "name": "stdout",
     "output_type": "stream",
     "text": [
      "==================================================\n",
      "RESUMEN DEL PIPELINE DE AUDIO EDUCATIVO\n",
      "==================================================\n",
      "\n",
      "📊 ESTADÍSTICAS GENERALES:\n",
      "• Fragmentos procesados: 5\n",
      "• Duración total del audio: ~5 minutos\n",
      "• Modelo ASR utilizado: Whisper (large)\n",
      "• Modelo de corrección: prithivida/grammar_error_correcter_v1\n",
      "\n",
      "📈 MEJORAS EN MÉTRICAS:\n",
      "• WER promedio (raw): 6.60\n",
      "• WER promedio (corregido): 0.92\n",
      "• Mejora en WER: 5.67 puntos\n",
      "• CER promedio (raw): 6.33\n",
      "• CER promedio (corregido): 0.76\n",
      "• Mejora en CER: 5.57 puntos\n",
      "\n",
      "🎯 PORCENTAJE DE MEJORA:\n",
      "• WER: 86.0% de mejora\n",
      "• CER: 88.0% de mejora\n",
      "\n",
      "🏆 FRAGMENTO CON MAYOR MEJORA:\n",
      "• Fragmento 5: WER de 10.67 a 0.93\n",
      "\n",
      "🔍 ANÁLISIS DE ERRORES:\n",
      "• Errores detallados analizados: 81\n",
      "• Tipos de errores identificados: omisiones, sustituciones, adiciones\n",
      "• Errores más frecuentes: marcadores de turno, conectores, frases completas\n",
      "\n",
      "�� ARCHIVOS GENERADOS:\n",
      "• transcript_raw.csv\n",
      "• transcript_gold.csv\n",
      "• transcript_corrected.csv\n",
      "• metrics.csv\n",
      "• errores_detallados.csv\n",
      "\n",
      "✅ PIPELINE COMPLETADO EXITOSAMENTE\n",
      "==================================================\n",
      "\n",
      "Próximos pasos sugeridos:\n",
      "• Revisar el informe.md para análisis detallado\n",
      "• Implementar diarización automática\n",
      "• Probar modelos de corrección más avanzados\n",
      "• Integrar en entorno educativo real\n"
     ]
    }
   ],
   "source": [
    "# ========================================\n",
    "# CONCLUSIONES Y RESUMEN DEL PIPELINE\n",
    "# ========================================\n",
    "\n",
    "print(\"=\" * 50)\n",
    "print(\"RESUMEN DEL PIPELINE DE AUDIO EDUCATIVO\")\n",
    "print(\"=\" * 50)\n",
    "\n",
    "# Cargar los datos finales\n",
    "df_metrics = pd.read_csv(\"metrics.csv\")\n",
    "df_gold = pd.read_csv(\"transcript_gold.csv\")\n",
    "\n",
    "# Estadísticas generales\n",
    "print(f\"\\n📊 ESTADÍSTICAS GENERALES:\")\n",
    "print(f\"• Fragmentos procesados: {len(df_gold)}\")\n",
    "print(f\"• Duración total del audio: ~5 minutos\")\n",
    "print(f\"• Modelo ASR utilizado: Whisper (large)\")\n",
    "print(f\"• Modelo de corrección: prithivida/grammar_error_correcter_v1\")\n",
    "\n",
    "# Mejoras en métricas\n",
    "print(f\"\\n📈 MEJORAS EN MÉTRICAS:\")\n",
    "print(f\"• WER promedio (raw): {df_metrics['WER_raw'].mean():.2f}\")\n",
    "print(f\"• WER promedio (corregido): {df_metrics['WER_corrected'].mean():.2f}\")\n",
    "print(f\"• Mejora en WER: {df_metrics['WER_raw'].mean() - df_metrics['WER_corrected'].mean():.2f} puntos\")\n",
    "print(f\"• CER promedio (raw): {df_metrics['CER_raw'].mean():.2f}\")\n",
    "print(f\"• CER promedio (corregido): {df_metrics['CER_corrected'].mean():.2f}\")\n",
    "print(f\"• Mejora en CER: {df_metrics['CER_raw'].mean() - df_metrics['CER_corrected'].mean():.2f} puntos\")\n",
    "\n",
    "# Porcentaje de mejora\n",
    "mejora_wer_porcentual = ((df_metrics['WER_raw'].mean() - df_metrics['WER_corrected'].mean()) / df_metrics['WER_raw'].mean()) * 100\n",
    "mejora_cer_porcentual = ((df_metrics['CER_raw'].mean() - df_metrics['CER_corrected'].mean()) / df_metrics['CER_raw'].mean()) * 100\n",
    "\n",
    "print(f\"\\n🎯 PORCENTAJE DE MEJORA:\")\n",
    "print(f\"• WER: {mejora_wer_porcentual:.1f}% de mejora\")\n",
    "print(f\"• CER: {mejora_cer_porcentual:.1f}% de mejora\")\n",
    "\n",
    "# Fragmento con mayor mejora\n",
    "mejor_fragmento = df_metrics.loc[df_metrics['WER_raw'].idxmax(), 'clip_id']\n",
    "print(f\"\\n🏆 FRAGMENTO CON MAYOR MEJORA:\")\n",
    "print(f\"• Fragmento {mejor_fragmento}: WER de {df_metrics['WER_raw'].max():.2f} a {df_metrics.loc[df_metrics['WER_raw'].idxmax(), 'WER_corrected']:.2f}\")\n",
    "\n",
    "# Errores detectados\n",
    "print(f\"\\n🔍 ANÁLISIS DE ERRORES:\")\n",
    "print(f\"• Errores detallados analizados: {len(pd.read_csv('errores_detallados.csv'))}\")\n",
    "print(f\"• Tipos de errores identificados: omisiones, sustituciones, adiciones\")\n",
    "print(f\"• Errores más frecuentes: marcadores de turno, conectores, frases completas\")\n",
    "\n",
    "# Archivos generados\n",
    "print(f\"\\n�� ARCHIVOS GENERADOS:\")\n",
    "archivos = [\n",
    "    \"transcript_raw.csv\",\n",
    "    \"transcript_gold.csv\", \n",
    "    \"transcript_corrected.csv\",\n",
    "    \"metrics.csv\",\n",
    "    \"errores_detallados.csv\"\n",
    "]\n",
    "for archivo in archivos:\n",
    "    print(f\"• {archivo}\")\n",
    "\n",
    "print(f\"\\n✅ PIPELINE COMPLETADO EXITOSAMENTE\")\n",
    "print(\"=\" * 50)\n",
    "print(\"\\nPróximos pasos sugeridos:\")\n",
    "print(\"• Revisar el informe.md para análisis detallado\")\n",
    "print(\"• Implementar diarización automática\")\n",
    "print(\"• Probar modelos de corrección más avanzados\")\n",
    "print(\"• Integrar en entorno educativo real\")"
   ]
  }
 ],
 "metadata": {
  "kernelspec": {
   "display_name": "Python 3 (ipykernel)",
   "language": "python",
   "name": "python3"
  },
  "language_info": {
   "codemirror_mode": {
    "name": "ipython",
    "version": 3
   },
   "file_extension": ".py",
   "mimetype": "text/x-python",
   "name": "python",
   "nbconvert_exporter": "python",
   "pygments_lexer": "ipython3",
   "version": "3.10.10"
  }
 },
 "nbformat": 4,
 "nbformat_minor": 4
}
